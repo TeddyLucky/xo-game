{
 "cells": [
  {
   "cell_type": "code",
   "execution_count": 1,
   "id": "81497e20-cf87-418f-932d-4bec0a3caec4",
   "metadata": {},
   "outputs": [
    {
     "name": "stdout",
     "output_type": "stream",
     "text": [
      "Добро пожаловать в игру Крестики-нолики!\n",
      "Для хода введите число от 1 до 9, соответствующее позиции на поле:\n",
      "\n",
      " 1 | 2 | 3 \n",
      "-----------\n",
      " 4 | 5 | 6 \n",
      "-----------\n",
      " 7 | 8 | 9 \n",
      "    \n",
      "\n",
      "\n",
      "   |   |   \n",
      "-----------\n",
      "   |   |   \n",
      "-----------\n",
      "   |   |   \n",
      "\n",
      "\n"
     ]
    },
    {
     "name": "stdin",
     "output_type": "stream",
     "text": [
      "Ход игрока X. Выберите позицию (1-9):  1\n"
     ]
    },
    {
     "name": "stdout",
     "output_type": "stream",
     "text": [
      "\n",
      "\n",
      " X |   |   \n",
      "-----------\n",
      "   |   |   \n",
      "-----------\n",
      "   |   |   \n",
      "\n",
      "\n"
     ]
    },
    {
     "name": "stdin",
     "output_type": "stream",
     "text": [
      "Ход игрока O. Выберите позицию (1-9):  5\n"
     ]
    },
    {
     "name": "stdout",
     "output_type": "stream",
     "text": [
      "\n",
      "\n",
      " X |   |   \n",
      "-----------\n",
      "   | O |   \n",
      "-----------\n",
      "   |   |   \n",
      "\n",
      "\n"
     ]
    },
    {
     "name": "stdin",
     "output_type": "stream",
     "text": [
      "Ход игрока X. Выберите позицию (1-9):  2\n"
     ]
    },
    {
     "name": "stdout",
     "output_type": "stream",
     "text": [
      "\n",
      "\n",
      " X | X |   \n",
      "-----------\n",
      "   | O |   \n",
      "-----------\n",
      "   |   |   \n",
      "\n",
      "\n"
     ]
    },
    {
     "name": "stdin",
     "output_type": "stream",
     "text": [
      "Ход игрока O. Выберите позицию (1-9):  3\n"
     ]
    },
    {
     "name": "stdout",
     "output_type": "stream",
     "text": [
      "\n",
      "\n",
      " X | X | O \n",
      "-----------\n",
      "   | O |   \n",
      "-----------\n",
      "   |   |   \n",
      "\n",
      "\n"
     ]
    },
    {
     "name": "stdin",
     "output_type": "stream",
     "text": [
      "Ход игрока X. Выберите позицию (1-9):  7\n"
     ]
    },
    {
     "name": "stdout",
     "output_type": "stream",
     "text": [
      "\n",
      "\n",
      " X | X | O \n",
      "-----------\n",
      "   | O |   \n",
      "-----------\n",
      " X |   |   \n",
      "\n",
      "\n"
     ]
    },
    {
     "name": "stdin",
     "output_type": "stream",
     "text": [
      "Ход игрока O. Выберите позицию (1-9):  4\n"
     ]
    },
    {
     "name": "stdout",
     "output_type": "stream",
     "text": [
      "\n",
      "\n",
      " X | X | O \n",
      "-----------\n",
      " O | O |   \n",
      "-----------\n",
      " X |   |   \n",
      "\n",
      "\n"
     ]
    },
    {
     "name": "stdin",
     "output_type": "stream",
     "text": [
      "Ход игрока X. Выберите позицию (1-9):  6\n"
     ]
    },
    {
     "name": "stdout",
     "output_type": "stream",
     "text": [
      "\n",
      "\n",
      " X | X | O \n",
      "-----------\n",
      " O | O | X \n",
      "-----------\n",
      " X |   |   \n",
      "\n",
      "\n"
     ]
    },
    {
     "name": "stdin",
     "output_type": "stream",
     "text": [
      "Ход игрока O. Выберите позицию (1-9):  8\n"
     ]
    },
    {
     "name": "stdout",
     "output_type": "stream",
     "text": [
      "\n",
      "\n",
      " X | X | O \n",
      "-----------\n",
      " O | O | X \n",
      "-----------\n",
      " X | O |   \n",
      "\n",
      "\n"
     ]
    },
    {
     "name": "stdin",
     "output_type": "stream",
     "text": [
      "Ход игрока X. Выберите позицию (1-9):  9\n"
     ]
    },
    {
     "name": "stdout",
     "output_type": "stream",
     "text": [
      "\n",
      "\n",
      " X | X | O \n",
      "-----------\n",
      " O | O | X \n",
      "-----------\n",
      " X | O | X \n",
      "\n",
      "\n",
      "Игра закончилась вничью!\n"
     ]
    }
   ],
   "source": [
    "def print_board(board):\n",
    "    \"\"\"Вывод игрового поля в консоль\"\"\"\n",
    "    print(\"\\n\")\n",
    "    for i in range(3):\n",
    "        print(f\" {board[i*3]} | {board[i*3 + 1]} | {board[i*3 + 2]} \")\n",
    "        if i < 2:\n",
    "            print(\"-----------\")\n",
    "    print(\"\\n\")\n",
    "\n",
    "def check_winner(board):\n",
    "    \"\"\"Проверка на победителя\"\"\"\n",
    "    # Проверка строк\n",
    "    for i in range(0, 9, 3):\n",
    "        if board[i] == board[i+1] == board[i+2] != ' ':\n",
    "            return board[i]\n",
    "    \n",
    "    # Проверка столбцов\n",
    "    for i in range(3):\n",
    "        if board[i] == board[i+3] == board[i+6] != ' ':\n",
    "            return board[i]\n",
    "    \n",
    "    # Проверка диагоналей\n",
    "    if board[0] == board[4] == board[8] != ' ':\n",
    "        return board[0]\n",
    "    if board[2] == board[4] == board[6] != ' ':\n",
    "        return board[2]\n",
    "    \n",
    "    # Проверка на ничью\n",
    "    if ' ' not in board:\n",
    "        return 'Ничья'\n",
    "    \n",
    "    return None\n",
    "\n",
    "def is_valid_move(board, position):\n",
    "    \"\"\"Проверка корректности хода\"\"\"\n",
    "    try:\n",
    "        position = int(position)\n",
    "        if 1 <= position <= 9:\n",
    "            if board[position-1] == ' ':\n",
    "                return True\n",
    "    except ValueError:\n",
    "        pass\n",
    "    return False\n",
    "\n",
    "def play_game():\n",
    "    \"\"\"Основная функция игры\"\"\"\n",
    "    board = [' ' for _ in range(9)]\n",
    "    current_player = 'X'\n",
    "    \n",
    "    print(\"Добро пожаловать в игру Крестики-нолики!\")\n",
    "    print(\"Для хода введите число от 1 до 9, соответствующее позиции на поле:\")\n",
    "    print(\"\"\"\n",
    " 1 | 2 | 3 \n",
    "-----------\n",
    " 4 | 5 | 6 \n",
    "-----------\n",
    " 7 | 8 | 9 \n",
    "    \"\"\")\n",
    "    \n",
    "    while True:\n",
    "        print_board(board)\n",
    "        \n",
    "        # Ход игрока\n",
    "        position = input(f\"Ход игрока {current_player}. Выберите позицию (1-9): \")\n",
    "        \n",
    "        # Проверка корректности ввода\n",
    "        if not is_valid_move(board, position):\n",
    "            print(\"Некорректный ход! Попробуйте снова.\")\n",
    "            continue\n",
    "        \n",
    "        # Выполнение хода\n",
    "        position = int(position)\n",
    "        board[position-1] = current_player\n",
    "        \n",
    "        # Проверка на завершение игры\n",
    "        result = check_winner(board)\n",
    "        if result:\n",
    "            print_board(board)\n",
    "            if result == 'Ничья':\n",
    "                print(\"Игра закончилась вничью!\")\n",
    "            else:\n",
    "                print(f\"Игрок {result} победил!\")\n",
    "            break\n",
    "        \n",
    "        # Смена игрока\n",
    "        current_player = 'O' if current_player == 'X' else 'X'\n",
    "\n",
    "if __name__ == \"__main__\":\n",
    "    play_game()\n"
   ]
  },
  {
   "cell_type": "code",
   "execution_count": null,
   "id": "a266abbb-e883-4364-933a-98ef5fcb93bd",
   "metadata": {},
   "outputs": [],
   "source": []
  }
 ],
 "metadata": {
  "kernelspec": {
   "display_name": "Python [conda env:base] *",
   "language": "python",
   "name": "conda-base-py"
  },
  "language_info": {
   "codemirror_mode": {
    "name": "ipython",
    "version": 3
   },
   "file_extension": ".py",
   "mimetype": "text/x-python",
   "name": "python",
   "nbconvert_exporter": "python",
   "pygments_lexer": "ipython3",
   "version": "3.12.7"
  }
 },
 "nbformat": 4,
 "nbformat_minor": 5
}
